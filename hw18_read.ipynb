{
 "cells": [
  {
   "cell_type": "code",
   "execution_count": null,
   "metadata": {},
   "outputs": [],
   "source": [
    "# psycorg2, sqlite3, pymongo.MongoClient"
   ]
  },
  {
   "cell_type": "markdown",
   "metadata": {},
   "source": [
    "# Чтение и запись данных. Часть 2\n",
    "\n",
    "## 1. Работа с базой данных из pandas\n"
   ]
  },
  {
   "cell_type": "markdown",
   "metadata": {},
   "source": [
    "### 1.1 \n",
    "\n",
    "Подготовка данных:"
   ]
  },
  {
   "cell_type": "code",
   "execution_count": 1,
   "metadata": {},
   "outputs": [
    {
     "name": "stdout",
     "output_type": "stream",
     "text": [
      "Какие таблицы содержатся в Postgres: [('keywords',), ('links',), ('ratings',), ('course_purchases',)]\n"
     ]
    },
    {
     "data": {
      "text/html": [
       "<div>\n",
       "<style scoped>\n",
       "    .dataframe tbody tr th:only-of-type {\n",
       "        vertical-align: middle;\n",
       "    }\n",
       "\n",
       "    .dataframe tbody tr th {\n",
       "        vertical-align: top;\n",
       "    }\n",
       "\n",
       "    .dataframe thead th {\n",
       "        text-align: right;\n",
       "    }\n",
       "</style>\n",
       "<table border=\"1\" class=\"dataframe\">\n",
       "  <thead>\n",
       "    <tr style=\"text-align: right;\">\n",
       "      <th></th>\n",
       "      <th>userid</th>\n",
       "      <th>movieid</th>\n",
       "      <th>rating</th>\n",
       "      <th>timestamp</th>\n",
       "    </tr>\n",
       "  </thead>\n",
       "  <tbody>\n",
       "    <tr>\n",
       "      <th>0</th>\n",
       "      <td>1</td>\n",
       "      <td>110</td>\n",
       "      <td>1.0</td>\n",
       "      <td>1425941529</td>\n",
       "    </tr>\n",
       "    <tr>\n",
       "      <th>1</th>\n",
       "      <td>1</td>\n",
       "      <td>147</td>\n",
       "      <td>4.5</td>\n",
       "      <td>1425942435</td>\n",
       "    </tr>\n",
       "    <tr>\n",
       "      <th>2</th>\n",
       "      <td>1</td>\n",
       "      <td>858</td>\n",
       "      <td>5.0</td>\n",
       "      <td>1425941523</td>\n",
       "    </tr>\n",
       "    <tr>\n",
       "      <th>3</th>\n",
       "      <td>1</td>\n",
       "      <td>1221</td>\n",
       "      <td>5.0</td>\n",
       "      <td>1425941546</td>\n",
       "    </tr>\n",
       "    <tr>\n",
       "      <th>4</th>\n",
       "      <td>1</td>\n",
       "      <td>1246</td>\n",
       "      <td>5.0</td>\n",
       "      <td>1425941556</td>\n",
       "    </tr>\n",
       "  </tbody>\n",
       "</table>\n",
       "</div>"
      ],
      "text/plain": [
       "   userid  movieid  rating   timestamp\n",
       "0       1      110     1.0  1425941529\n",
       "1       1      147     4.5  1425942435\n",
       "2       1      858     5.0  1425941523\n",
       "3       1     1221     5.0  1425941546\n",
       "4       1     1246     5.0  1425941556"
      ]
     },
     "execution_count": 1,
     "metadata": {},
     "output_type": "execute_result"
    }
   ],
   "source": [
    "import psycopg2\n",
    "import pandas as pd\n",
    "import sqlite3\n",
    "\n",
    "pg_connection = {\n",
    "    \"host\": \"\",\n",
    "    \"port\": ,\n",
    "    \"dbname\": \"\",\n",
    "    \"user\": \"\",\n",
    "    \"password\": \"\"\n",
    "}\n",
    "conn = psycopg2.connect(**pg_connection)\n",
    "\n",
    "cursor = conn.cursor()\n",
    "\n",
    "# получаем имена таблиц из базы\n",
    "sql_str = \"SELECT table_name FROM information_schema.tables WHERE table_schema='public';\"\n",
    "cursor.execute(sql_str)\n",
    "tables_data = [a for a in cursor.fetchall()]\n",
    "conn.commit()\n",
    "\n",
    "print(\"Какие таблицы содержатся в Postgres: %s\" % tables_data)\n",
    "\n",
    "df = pd.read_sql_query(\"select * from public.ratings limit 5;\", conn)\n",
    "df.head()"
   ]
  },
  {
   "cell_type": "markdown",
   "metadata": {},
   "source": [
    "**Задание простого уровня** <br>Посчитайте количество записей в каждой из таблиц **keywords, links, ratings** и выведите в формате имя *таблицы:количество строк*\n",
    "\n",
    "*Результат работы:*\n",
    "<pre>\n",
    "table keywords:92838\n",
    "table links:91686\n",
    "table ratings:1555552\n",
    "</pre>"
   ]
  },
  {
   "cell_type": "code",
   "execution_count": 2,
   "metadata": {},
   "outputs": [
    {
     "name": "stdout",
     "output_type": "stream",
     "text": [
      "keywords:92838\n",
      "links:91686\n",
      "ratings:1555552\n",
      "course_purchases:154\n",
      "\n",
      "table keywords:1\n",
      "table links:1\n",
      "table ratings:1\n",
      "table course_purchases:1\n"
     ]
    }
   ],
   "source": [
    "import psycopg2\n",
    "\n",
    "pg_connection = {\n",
    "    \"host\": \"\",\n",
    "    \"port\": ,\n",
    "    \"dbname\": \"\",\n",
    "    \"user\": \"\",\n",
    "    \"password\": \"\"\n",
    "}\n",
    "conn = psycopg2.connect(**pg_connection)\n",
    "cursor = conn.cursor()\n",
    "\n",
    "table_names = [i[0] for i in tables_data]\n",
    "str_tables = ''\n",
    "\n",
    "for table in table_names:\n",
    "        sql_str_tables = \"SELECT count(*) FROM \" + table\n",
    "        cursor.execute(sql_str_tables)\n",
    "        print(table + ':' + str(cursor.fetchall()[0][0]))\n",
    "print('')\n",
    "for table in table_names:        \n",
    "        sql_str = \"SELECT 1 FROM public.{} LIMIT 1;\".format(table)\n",
    "        cursor.execute(sql_str)\n",
    "        row_count = [a for a in cursor.fetchall()][0][0]\n",
    "        print(\"table {}:{}\".format(table, row_count))\n",
    "cursor.close()"
   ]
  },
  {
   "cell_type": "markdown",
   "metadata": {},
   "source": [
    "### 1.2\n",
    "\n",
    "**Задание среднего уровня** <br>Напечатайте колонки таблицы *ratings*. Подсказка: поисследуйте объект **cursor** с помощью встроенной в python команды *dir()*"
   ]
  },
  {
   "cell_type": "code",
   "execution_count": 6,
   "metadata": {},
   "outputs": [
    {
     "name": "stdout",
     "output_type": "stream",
     "text": [
      "Поля таблицы ratings: []\n"
     ]
    }
   ],
   "source": [
    "import psycopg2\n",
    "\n",
    "pg_connection = {\n",
    "    \"host\": \"\",\n",
    "    \"port\": ,\n",
    "    \"dbname\": \"\",\n",
    "    \"user\": \"\",\n",
    "    \"password\": \"\"\n",
    "}\n",
    "conn = psycopg2.connect(**pg_connection)\n",
    "cursor = conn.cursor()\n",
    "\n",
    "sql_str = \"SELECT * FROM ratings LIMIT 10;\"\n",
    "cursor.execute(sql_str)\n",
    "conn.commit()\n",
    "\n",
    "table_rating_fields = ''\n",
    "for i in cursor.description:\n",
    "    table_rating_fields += i[0] + '  '\n",
    "\n",
    "# -- ВАШ КОД ТУТ --\n",
    "#table_rating_fields = print(dir(cursor))\n",
    "print(\"Поля таблицы ratings: %s\" % table_rating_fields)\n",
    "\n",
    "cursor.close()"
   ]
  },
  {
   "cell_type": "markdown",
   "metadata": {},
   "source": [
    "### 1.3\n",
    "\n",
    "**Задание высокого уровня**\n",
    "* Посмотрите на столбцы таблицы **links** и столбцы таблицы **ratings** по какому полю можно заджойнить эти две таблицы\n",
    "* Посчитайте количество фильмов из links, у который нет оценок в ratings."
   ]
  },
  {
   "cell_type": "code",
   "execution_count": 26,
   "metadata": {},
   "outputs": [
    {
     "name": "stdout",
     "output_type": "stream",
     "text": [
      "movieid\n",
      "imdbid\n",
      "tmdbid\n",
      "\n",
      "Количество фильмов без рейтингов: 0\n"
     ]
    }
   ],
   "source": [
    "import psycopg2\n",
    "\n",
    "pg_connection = {\n",
    "    \"host\": \"\",\n",
    "    \"port\": ,\n",
    "    \"dbname\": \"\",\n",
    "    \"user\": \"\",\n",
    "    \"password\": \"\"\n",
    "}\n",
    "conn = psycopg2.connect(**pg_connection)\n",
    "cursor = conn.cursor()\n",
    "\n",
    "sql_str = \"SELECT * FROM links LIMIT 10;\"\n",
    "cursor.execute(sql_str)\n",
    "conn.commit()\n",
    "for i in cursor.description:\n",
    "    print(i[0])   #джойним по полю \"movieid\"\n",
    "\n",
    "sql_str = \"SELECT count(*) FROM links JOIN ratings ON ratings.movieid = links.movieid where ratings.rating IS NULL\"\n",
    "cursor.execute(sql_str)\n",
    "print()\n",
    "row_count = cursor.fetchall()\n",
    "row_count = row_count[0]\n",
    "conn.commit()\n",
    "\n",
    "print(\"Количество фильмов без рейтингов: %s\" % row_count)\n",
    "\n",
    "cursor.close()"
   ]
  },
  {
   "cell_type": "markdown",
   "metadata": {},
   "source": [
    "## 2. Работа с БД: MongoDB\n",
    "\n",
    "### 2.1\n",
    "\n",
    "Подготовка данных"
   ]
  },
  {
   "cell_type": "code",
   "execution_count": 4,
   "metadata": {},
   "outputs": [
    {
     "name": "stdout",
     "output_type": "stream",
     "text": [
      "Коллекции, доступные в MongoDB: ['tags', 'users']\n",
      "Число документов в коллекции 158680\n"
     ]
    }
   ],
   "source": [
    "from pymongo import MongoClient\n",
    "\n",
    "mongo_connection = {\n",
    "    \"host\": \"\",\n",
    "    \"port\": ,\n",
    "    \"user\": \"\",\n",
    "    \"password\": \"\",\n",
    "    \"authSource\": \"\"\n",
    "}\n",
    "\n",
    "mongo = MongoClient('mongodb://%s:%s@%s:%s/?authSource=%s' % (\n",
    "    mongo_connection['user'], mongo_connection['password'],\n",
    "    mongo_connection['host'], mongo_connection['port'], mongo_connection['authSource'])\n",
    ")\n",
    "db = mongo[\"movies\"]\n",
    "\n",
    "print(\"Коллекции, доступные в MongoDB: %s\" % db.list_collection_names())\n",
    "\n",
    "collection = db['tags']\n",
    "print(\"Число документов в коллекции %s\" % collection.estimated_document_count())"
   ]
  },
  {
   "cell_type": "markdown",
   "metadata": {},
   "source": [
    "**Задание простого уровня** <br>Посчитайте количество контента, у которого встречается тэг \"toy\"\n",
    "\n",
    "* сделайте выборку такого контента (а точнее - поля `id`) в питоновский `list`\n",
    "* подсчитайте количество элементов в `list`"
   ]
  },
  {
   "cell_type": "code",
   "execution_count": 5,
   "metadata": {},
   "outputs": [
    {
     "name": "stdout",
     "output_type": "stream",
     "text": [
      "Количество контента с тэгом 'toy': 19\n",
      "\n"
     ]
    }
   ],
   "source": [
    "selector = {'name': 'toy'}\n",
    "exclude_id = {'_id': False}\n",
    "\n",
    "mongo_cursor = collection.find(projection=exclude_id, filter={'name': 'toy'})\n",
    "\n",
    "# -- ВАШ КОД ТУТ --\n",
    "\n",
    "cursor_items = set([])\n",
    "cursor_items = [item for item in mongo_cursor]\n",
    "\n",
    "print(\"Количество контента с тэгом 'toy': %s\\n\" % len(cursor_items))"
   ]
  },
  {
   "cell_type": "markdown",
   "metadata": {},
   "source": [
    "### 2.2\n",
    "\n",
    "**Задание среднего уровня** <br> Выведите **только названия** 10 самых непопулярных тэгов <br>\n",
    "\n",
    "Подсказка: посмотрите в уроке, как MongoDB позволяет также выполнять сложные агрегирующие запросы средствами СУБД\n",
    "\n",
    "*Результат работы*\n",
    "<pre>\n",
    "Счётчик тэгов ['ancient tablet', 'remains', 'robespierre', 'social scandal', 'brain implant', 'adam west', 'arm cast', 'acab', 'gas explosion', 'female psychologist']\n",
    "</pre>"
   ]
  },
  {
   "cell_type": "code",
   "execution_count": 6,
   "metadata": {},
   "outputs": [
    {
     "name": "stdout",
     "output_type": "stream",
     "text": [
      "['ancient tablet', 'remains', 'robespierre', 'social scandal', 'brain implant', 'adam west', 'arm cast', 'acab', 'gas explosion', 'female psychologist']\n"
     ]
    }
   ],
   "source": [
    "# -- ВАШ КОД ТУТ --\n",
    "pipeline = [\n",
    "    {\"$group\":\n",
    "        {\"_id\": \"$name\"}\n",
    "    },\n",
    "    {\"$sort\":\n",
    "         {\"tag_count\": 1}\n",
    "    },\n",
    "    {\"$limit\": 10}\n",
    "]\n",
    "\n",
    "#for i in collection.aggregate(pipeline):\n",
    " #   print(i.get('_id'))\n",
    "\n",
    "    \n",
    "print([i.get('_id') for i in collection.aggregate(pipeline)])"
   ]
  },
  {
   "cell_type": "markdown",
   "metadata": {},
   "source": [
    "### 2.3\n",
    "\n",
    "**Задание высокого уровня**\n",
    "\n",
    "1. Подключитесь к Postgres. Найдите top-10 самого популярного контента\n",
    "1. Сохраните в файл `content_popularity.json` в виде\n",
    "<pre>\n",
    "{'movieId': 931, 'popularity': 999}\n",
    "{'movieId': 429, 'popularity': 111}\n",
    "</pre>\n",
    "\n",
    "Этот формат называется single-line json и его можно загрузить в MongoDB с помощью команды\n",
    "<pre>\n",
    "mongoimport --host $APP_MONGO_HOST --port $APP_MONGO_PORT --db movies --collection tags --file content_popularity.json\n",
    "</pre>\n",
    "\n",
    "**ВНИМАНИЕ!** Это просто пример как можно использовать single-line JSON, заливать его никуда не нужно - в задаче требуется только подготовить файл в правильном виде\n",
    "\n",
    "*Подсказка* воспользуйтесь функцией `json.dumps`\n",
    "\n",
    "*Результат работы* - файл `content_popularity.json`:\n",
    "\n",
    "<pre>\n",
    "{\"movieId\": 318, \"popularity\": 5626}\n",
    "{\"movieId\": 356, \"popularity\": 5464}\n",
    "{\"movieId\": 296, \"popularity\": 5242}\n",
    "{\"movieId\": 593, \"popularity\": 5048}\n",
    "{\"movieId\": 2571, \"popularity\": 4718}\n",
    "{\"movieId\": 260, \"popularity\": 4556}\n",
    "{\"movieId\": 480, \"popularity\": 4540}\n",
    "{\"movieId\": 527, \"popularity\": 4120}\n",
    "{\"movieId\": 1, \"popularity\": 4072}\n",
    "{\"movieId\": 110, \"popularity\": 3928}\n",
    "</pre>"
   ]
  },
  {
   "cell_type": "code",
   "execution_count": 7,
   "metadata": {},
   "outputs": [],
   "source": [
    "# -- ВАШ КОД ТУТ --\n",
    "\n",
    "import json\n",
    "\n",
    "pg_connection = {\n",
    "    \"host\": \"\",\n",
    "    \"port\": ,\n",
    "    \"dbname\": \"\",\n",
    "    \"user\": \"\",\n",
    "    \"password\": \"\"\n",
    "}\n",
    "conn = psycopg2.connect(**pg_connection)\n",
    "\n",
    "cursor = conn.cursor()\n",
    "sql_str = \"SELECT movieid, count(ratings.rating) AS popularity FROM ratings GROUP BY ratings.movieid ORDER BY popularity DESC;\"\n",
    "cursor.execute(sql_str)\n",
    "tables_data = [a for a in cursor.fetchall()]\n",
    "conn.commit()\n",
    "\n",
    "with open(\"content_popularity.json\", \"w\") as write_file:\n",
    "    write_file.write('<pre>')\n",
    "    for i in tables_data:\n",
    "        sql_dumper = json.dumps(['movieid: ', i[0], 'popularity: ', i[1]])\n",
    "        write_file.write(sql_dumper)\n",
    "    write_file.write('/pre')"
   ]
  }
 ],
 "metadata": {
  "kernelspec": {
   "display_name": "Python 3",
   "language": "python",
   "name": "python3"
  },
  "language_info": {
   "codemirror_mode": {
    "name": "ipython",
    "version": 3
   },
   "file_extension": ".py",
   "mimetype": "text/x-python",
   "name": "python",
   "nbconvert_exporter": "python",
   "pygments_lexer": "ipython3",
   "version": "3.7.3"
  }
 },
 "nbformat": 4,
 "nbformat_minor": 2
}
